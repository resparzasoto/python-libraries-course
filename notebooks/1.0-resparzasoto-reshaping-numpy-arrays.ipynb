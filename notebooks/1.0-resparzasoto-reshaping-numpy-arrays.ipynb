{
 "cells": [
  {
   "cell_type": "code",
   "execution_count": 1,
   "id": "61fae669",
   "metadata": {},
   "outputs": [],
   "source": [
    "import numpy as np"
   ]
  },
  {
   "cell_type": "code",
   "execution_count": 3,
   "id": "b8fe160d",
   "metadata": {},
   "outputs": [
    {
     "data": {
      "text/plain": [
       "[912,\n",
       " 80,\n",
       " 611,\n",
       " 906,\n",
       " 302,\n",
       " 882,\n",
       " 907,\n",
       " 405,\n",
       " 784,\n",
       " 872,\n",
       " 919,\n",
       " 528,\n",
       " 865,\n",
       " 569,\n",
       " 762,\n",
       " 318,\n",
       " 156,\n",
       " 761,\n",
       " 941,\n",
       " 10,\n",
       " 87,\n",
       " 137,\n",
       " 819,\n",
       " 553,\n",
       " 272,\n",
       " 325,\n",
       " 888,\n",
       " 251,\n",
       " 28,\n",
       " 306,\n",
       " 538,\n",
       " 563,\n",
       " 2,\n",
       " 293,\n",
       " 226,\n",
       " 733,\n",
       " 760,\n",
       " 629,\n",
       " 64,\n",
       " 446,\n",
       " 713,\n",
       " 542,\n",
       " 870,\n",
       " 767,\n",
       " 727,\n",
       " 406,\n",
       " 221,\n",
       " 554,\n",
       " 315,\n",
       " 222]"
      ]
     },
     "execution_count": 3,
     "metadata": {},
     "output_type": "execute_result"
    }
   ],
   "source": [
    "# This is a list of integers\n",
    "int_list = [\n",
    "    912,  80, 611, 906, 302, 882, 907, 405, 784, 872, 919, 528, 865,\n",
    "    569, 762, 318, 156, 761, 941,  10,  87, 137, 819, 553, 272, 325,\n",
    "    888, 251,  28, 306, 538, 563,   2, 293, 226, 733, 760, 629,  64,\n",
    "    446, 713, 542, 870, 767, 727, 406, 221, 554, 315, 222\n",
    "]\n",
    "int_list"
   ]
  },
  {
   "cell_type": "code",
   "execution_count": null,
   "id": "4ff38236",
   "metadata": {},
   "outputs": [
    {
     "data": {
      "text/plain": [
       "array([912,  80, 611, 906, 302, 882, 907, 405, 784, 872, 919, 528, 865,\n",
       "       569, 762, 318, 156, 761, 941,  10,  87, 137, 819, 553, 272, 325,\n",
       "       888, 251,  28, 306, 538, 563,   2, 293, 226, 733, 760, 629,  64,\n",
       "       446, 713, 542, 870, 767, 727, 406, 221, 554, 315, 222])"
      ]
     },
     "execution_count": 5,
     "metadata": {},
     "output_type": "execute_result"
    }
   ],
   "source": [
    "# Array of integers\n",
    "int_array = np.array(int_list)\n",
    "int_array"
   ]
  },
  {
   "cell_type": "code",
   "execution_count": 7,
   "id": "ad70a8c9",
   "metadata": {},
   "outputs": [
    {
     "data": {
      "text/plain": [
       "(50,)"
      ]
     },
     "execution_count": 7,
     "metadata": {},
     "output_type": "execute_result"
    }
   ],
   "source": [
    "int_array.shape"
   ]
  },
  {
   "cell_type": "code",
   "execution_count": 11,
   "id": "112ee4fe",
   "metadata": {},
   "outputs": [
    {
     "data": {
      "text/plain": [
       "array([[912,  80, 611, 906, 302],\n",
       "       [882, 907, 405, 784, 872],\n",
       "       [919, 528, 865, 569, 762],\n",
       "       [318, 156, 761, 941,  10],\n",
       "       [ 87, 137, 819, 553, 272],\n",
       "       [325, 888, 251,  28, 306],\n",
       "       [538, 563,   2, 293, 226],\n",
       "       [733, 760, 629,  64, 446],\n",
       "       [713, 542, 870, 767, 727],\n",
       "       [406, 221, 554, 315, 222]])"
      ]
     },
     "execution_count": 11,
     "metadata": {},
     "output_type": "execute_result"
    }
   ],
   "source": [
    "# Reshape the array into a 10x5 (10 rows)x(5 columns) matrix\n",
    "int_matrix = int_array.reshape(10, 5)\n",
    "int_matrix"
   ]
  },
  {
   "cell_type": "code",
   "execution_count": 12,
   "id": "2595ac72",
   "metadata": {},
   "outputs": [
    {
     "data": {
      "text/plain": [
       "(10, 5)"
      ]
     },
     "execution_count": 12,
     "metadata": {},
     "output_type": "execute_result"
    }
   ],
   "source": [
    "int_matrix.shape"
   ]
  },
  {
   "cell_type": "code",
   "execution_count": 16,
   "id": "20e04255",
   "metadata": {},
   "outputs": [
    {
     "data": {
      "text/plain": [
       "array([1, 2, 3])"
      ]
     },
     "execution_count": 16,
     "metadata": {},
     "output_type": "execute_result"
    }
   ],
   "source": [
    "a = np.array([1, 2, 3])\n",
    "a"
   ]
  },
  {
   "cell_type": "code",
   "execution_count": 17,
   "id": "f9f13e74",
   "metadata": {},
   "outputs": [
    {
     "data": {
      "text/plain": [
       "array([4, 5, 6])"
      ]
     },
     "execution_count": 17,
     "metadata": {},
     "output_type": "execute_result"
    }
   ],
   "source": [
    "b = np.array([4, 5, 6])\n",
    "b"
   ]
  },
  {
   "cell_type": "code",
   "execution_count": null,
   "id": "eec4f7ab",
   "metadata": {},
   "outputs": [
    {
     "data": {
      "text/plain": [
       "array([[1, 2, 3],\n",
       "       [4, 5, 6]])"
      ]
     },
     "execution_count": 18,
     "metadata": {},
     "output_type": "execute_result"
    }
   ],
   "source": [
    "# Stack the two arrays vertically\n",
    "c = np.vstack((a, b))\n",
    "c"
   ]
  },
  {
   "cell_type": "code",
   "execution_count": 19,
   "id": "8069012e",
   "metadata": {},
   "outputs": [
    {
     "data": {
      "text/plain": [
       "array([1, 2, 3, 4, 5, 6])"
      ]
     },
     "execution_count": 19,
     "metadata": {},
     "output_type": "execute_result"
    }
   ],
   "source": [
    "# Stack the two arrays horizontally\n",
    "d = np.hstack((a, b))\n",
    "d"
   ]
  },
  {
   "cell_type": "code",
   "execution_count": 20,
   "id": "853c0de6",
   "metadata": {},
   "outputs": [
    {
     "data": {
      "text/plain": [
       "array([[1, 2],\n",
       "       [3, 4]])"
      ]
     },
     "execution_count": 20,
     "metadata": {},
     "output_type": "execute_result"
    }
   ],
   "source": [
    "a = np.array([[1, 2], [3, 4]])\n",
    "a"
   ]
  },
  {
   "cell_type": "code",
   "execution_count": 21,
   "id": "a3ca6ced",
   "metadata": {},
   "outputs": [
    {
     "data": {
      "text/plain": [
       "array([[5, 6]])"
      ]
     },
     "execution_count": 21,
     "metadata": {},
     "output_type": "execute_result"
    }
   ],
   "source": [
    "b = np.array([[5, 6]])\n",
    "b"
   ]
  },
  {
   "cell_type": "code",
   "execution_count": null,
   "id": "d41f6361",
   "metadata": {},
   "outputs": [
    {
     "data": {
      "text/plain": [
       "array([1, 2, 3, 4, 5, 6])"
      ]
     },
     "execution_count": 24,
     "metadata": {},
     "output_type": "execute_result"
    }
   ],
   "source": [
    "# Flatten the arrays and concatenate (axis=None)\n",
    "flatten_array = np.concatenate((a, b), axis=None)\n",
    "flatten_array"
   ]
  },
  {
   "cell_type": "code",
   "execution_count": null,
   "id": "079a5016",
   "metadata": {},
   "outputs": [
    {
     "data": {
      "text/plain": [
       "array([[1, 2],\n",
       "       [3, 4],\n",
       "       [5, 6]])"
      ]
     },
     "execution_count": 29,
     "metadata": {},
     "output_type": "execute_result"
    }
   ],
   "source": [
    "# Stack the arrays vertical (axis=0) (default)\n",
    "vertical_array = np.concatenate((a, b), axis=0)\n",
    "vertical_array"
   ]
  },
  {
   "cell_type": "code",
   "execution_count": 30,
   "id": "813d60a2",
   "metadata": {},
   "outputs": [
    {
     "data": {
      "text/plain": [
       "array([[1, 2, 5],\n",
       "       [3, 4, 6]])"
      ]
     },
     "execution_count": 30,
     "metadata": {},
     "output_type": "execute_result"
    }
   ],
   "source": [
    "# Stack the arrays horizontal (axis=1)\n",
    "horizontal_array = np.concatenate((a, b.T), axis=1)\n",
    "horizontal_array"
   ]
  }
 ],
 "metadata": {
  "kernelspec": {
   "display_name": ".venv",
   "language": "python",
   "name": "python3"
  },
  "language_info": {
   "codemirror_mode": {
    "name": "ipython",
    "version": 3
   },
   "file_extension": ".py",
   "mimetype": "text/x-python",
   "name": "python",
   "nbconvert_exporter": "python",
   "pygments_lexer": "ipython3",
   "version": "3.10.12"
  }
 },
 "nbformat": 4,
 "nbformat_minor": 5
}
