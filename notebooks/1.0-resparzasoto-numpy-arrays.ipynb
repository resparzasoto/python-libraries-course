{
 "cells": [
  {
   "cell_type": "code",
   "execution_count": 4,
   "id": "5dd1d75f",
   "metadata": {},
   "outputs": [],
   "source": [
    "import numpy as np"
   ]
  },
  {
   "cell_type": "code",
   "execution_count": 10,
   "id": "5c57b9a7",
   "metadata": {},
   "outputs": [
    {
     "data": {
      "text/plain": [
       "array([0, 1, 2, 3, 4, 5, 6, 7, 8, 9])"
      ]
     },
     "execution_count": 10,
     "metadata": {},
     "output_type": "execute_result"
    }
   ],
   "source": [
    "simple_array = np.arange(10)\n",
    "simple_array"
   ]
  },
  {
   "cell_type": "code",
   "execution_count": 11,
   "id": "0f9111c6",
   "metadata": {},
   "outputs": [
    {
     "data": {
      "text/plain": [
       "array([0., 1., 2., 3., 4., 5., 6., 7., 8., 9.])"
      ]
     },
     "execution_count": 11,
     "metadata": {},
     "output_type": "execute_result"
    }
   ],
   "source": [
    "float_array = np.arange(10, dtype=float)\n",
    "float_array"
   ]
  },
  {
   "cell_type": "code",
   "execution_count": 13,
   "id": "fc04c54c",
   "metadata": {},
   "outputs": [
    {
     "data": {
      "text/plain": [
       "dtype('float64')"
      ]
     },
     "execution_count": 13,
     "metadata": {},
     "output_type": "execute_result"
    }
   ],
   "source": [
    "float_array.dtype"
   ]
  },
  {
   "cell_type": "code",
   "execution_count": 15,
   "id": "500cfb57",
   "metadata": {},
   "outputs": [
    {
     "data": {
      "text/plain": [
       "array([0.+0.j, 1.+0.j, 2.+0.j, 3.+0.j, 4.+0.j, 5.+0.j, 6.+0.j, 7.+0.j,\n",
       "       8.+0.j, 9.+0.j])"
      ]
     },
     "execution_count": 15,
     "metadata": {},
     "output_type": "execute_result"
    }
   ],
   "source": [
    "complex_array = float_array.astype(complex)\n",
    "complex_array"
   ]
  },
  {
   "cell_type": "code",
   "execution_count": 28,
   "id": "ee077490",
   "metadata": {},
   "outputs": [
    {
     "data": {
      "text/plain": [
       "[912,\n",
       " 80,\n",
       " 611,\n",
       " 906,\n",
       " 302,\n",
       " 882,\n",
       " 907,\n",
       " 405,\n",
       " 784,\n",
       " 872,\n",
       " 919,\n",
       " 528,\n",
       " 865,\n",
       " 569,\n",
       " 762,\n",
       " 318,\n",
       " 156,\n",
       " 761,\n",
       " 941,\n",
       " 10,\n",
       " 87,\n",
       " 137,\n",
       " 819,\n",
       " 553,\n",
       " 272,\n",
       " 325,\n",
       " 888,\n",
       " 251,\n",
       " 28,\n",
       " 306,\n",
       " 538,\n",
       " 563,\n",
       " 2,\n",
       " 293,\n",
       " 226,\n",
       " 733,\n",
       " 760,\n",
       " 629,\n",
       " 64,\n",
       " 446,\n",
       " 713,\n",
       " 542,\n",
       " 870,\n",
       " 767,\n",
       " 727,\n",
       " 406,\n",
       " 221,\n",
       " 554,\n",
       " 315,\n",
       " 222]"
      ]
     },
     "execution_count": 28,
     "metadata": {},
     "output_type": "execute_result"
    }
   ],
   "source": [
    "# This is a list of integers\n",
    "int_list = [\n",
    "    912,  80, 611, 906, 302, 882, 907, 405, 784, 872, 919, 528, 865,\n",
    "    569, 762, 318, 156, 761, 941,  10,  87, 137, 819, 553, 272, 325,\n",
    "    888, 251,  28, 306, 538, 563,   2, 293, 226, 733, 760, 629,  64,\n",
    "    446, 713, 542, 870, 767, 727, 406, 221, 554, 315, 222\n",
    "]\n",
    "int_list"
   ]
  },
  {
   "cell_type": "code",
   "execution_count": null,
   "id": "d757b9b9",
   "metadata": {},
   "outputs": [
    {
     "data": {
      "text/plain": [
       "array([912,  80, 611, 906, 302, 882, 907, 405, 784, 872, 919, 528, 865,\n",
       "       569, 762, 318, 156, 761, 941,  10,  87, 137, 819, 553, 272, 325,\n",
       "       888, 251,  28, 306, 538, 563,   2, 293, 226, 733, 760, 629,  64,\n",
       "       446, 713, 542, 870, 767, 727, 406, 221, 554, 315, 222])"
      ]
     },
     "execution_count": 25,
     "metadata": {},
     "output_type": "execute_result"
    }
   ],
   "source": [
    "# Convert the list of integers to a NumPy array\n",
    "int_array = np.array(int_list)\n",
    "int_array"
   ]
  },
  {
   "cell_type": "code",
   "execution_count": 27,
   "id": "3add68ab",
   "metadata": {},
   "outputs": [
    {
     "data": {
      "text/plain": [
       "dtype('int64')"
      ]
     },
     "execution_count": 27,
     "metadata": {},
     "output_type": "execute_result"
    }
   ],
   "source": [
    "int_array.dtype"
   ]
  },
  {
   "cell_type": "code",
   "execution_count": 30,
   "id": "d9a38766",
   "metadata": {},
   "outputs": [
    {
     "data": {
      "text/plain": [
       "array([1297,  603, 1071,  539, 1222, 1424,  986,  397,  970, 1102,  499,\n",
       "        533,  908,  559,  386, 1183,  595,   69, 1141,   76,  863, 1343,\n",
       "        185,  895, 1312,   50,  918,  677,  394,  629, 1317,  944,  466,\n",
       "        751, 1050,  301,  415,  784,   19, 1395, 1223,  979,  252, 1155,\n",
       "         59,  107,  632,  995,  972,  867,  332,  751,  810,   50,   55,\n",
       "        218,  997, 1085,  475, 1494])"
      ]
     },
     "execution_count": 30,
     "metadata": {},
     "output_type": "execute_result"
    }
   ],
   "source": [
    "scores_array = np.genfromtxt('../data/raw/scores.csv', delimiter=',', dtype=int)\n",
    "scores_array"
   ]
  },
  {
   "cell_type": "code",
   "execution_count": 32,
   "id": "8f51e8a7",
   "metadata": {},
   "outputs": [
    {
     "data": {
      "text/plain": [
       "60"
      ]
     },
     "execution_count": 32,
     "metadata": {},
     "output_type": "execute_result"
    }
   ],
   "source": [
    "scores_array.size"
   ]
  },
  {
   "cell_type": "code",
   "execution_count": 35,
   "id": "dee6ff12",
   "metadata": {},
   "outputs": [
    {
     "data": {
      "text/plain": [
       "array([1071,  539, 1222])"
      ]
     },
     "execution_count": 35,
     "metadata": {},
     "output_type": "execute_result"
    }
   ],
   "source": [
    "scores_array[2:5]"
   ]
  },
  {
   "cell_type": "code",
   "execution_count": 37,
   "id": "5b105fae",
   "metadata": {},
   "outputs": [
    {
     "data": {
      "text/plain": [
       "array([1, 1, 1, 1, 1, 1, 1, 1, 1, 1, 1, 1, 1, 1, 1, 1, 1, 1, 1, 1, 1, 1,\n",
       "       1, 1, 1, 1, 1, 1, 1, 1, 1, 1, 1, 1, 1, 1, 1, 1, 1, 1, 1, 1, 1, 1,\n",
       "       1, 1, 1, 1, 1, 1, 1, 1, 1, 1, 1, 1, 1, 1, 1, 1])"
      ]
     },
     "execution_count": 37,
     "metadata": {},
     "output_type": "execute_result"
    }
   ],
   "source": [
    "scores_array ** 0"
   ]
  },
  {
   "cell_type": "code",
   "execution_count": 38,
   "id": "8f977049",
   "metadata": {},
   "outputs": [
    {
     "data": {
      "text/plain": [
       "array([1297,  603, 1071,  539, 1222, 1424,  986,  397,  970, 1102,  499,\n",
       "        533,  908,  559,  386, 1183,  595,   69, 1141,   76,  863, 1343,\n",
       "        185,  895, 1312,   50,  918,  677,  394,  629, 1317,  944,  466,\n",
       "        751, 1050,  301,  415,  784,   19, 1395, 1223,  979,  252, 1155,\n",
       "         59,  107,  632,  995,  972,  867,  332,  751,  810,   50,   55,\n",
       "        218,  997, 1085,  475, 1494])"
      ]
     },
     "execution_count": 38,
     "metadata": {},
     "output_type": "execute_result"
    }
   ],
   "source": [
    "scores_array"
   ]
  }
 ],
 "metadata": {
  "kernelspec": {
   "display_name": ".venv",
   "language": "python",
   "name": "python3"
  },
  "language_info": {
   "codemirror_mode": {
    "name": "ipython",
    "version": 3
   },
   "file_extension": ".py",
   "mimetype": "text/x-python",
   "name": "python",
   "nbconvert_exporter": "python",
   "pygments_lexer": "ipython3",
   "version": "3.10.12"
  }
 },
 "nbformat": 4,
 "nbformat_minor": 5
}
