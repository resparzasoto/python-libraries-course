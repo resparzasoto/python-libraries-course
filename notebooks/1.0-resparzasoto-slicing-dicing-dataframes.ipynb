{
 "cells": [
  {
   "cell_type": "code",
   "execution_count": 5,
   "id": "567bac32",
   "metadata": {},
   "outputs": [],
   "source": [
    "import pandas as pd"
   ]
  },
  {
   "cell_type": "code",
   "execution_count": 6,
   "id": "6e84a390",
   "metadata": {},
   "outputs": [],
   "source": [
    "data = [\n",
    "    (\"Dexter\",\"Johnsons\",\"dog\",\"shiba inu\",\"red sesame\",1.5,35,\"m\",False,\"both\",True),\n",
    "    (\"Alfred\",\"Johnsons\",\"cat\",\"mix\",\"tuxedo\",4,12,\"m\",True,\"indoor\",True),\n",
    "    (\"Petra\",\"Smith\",\"cat\",\"ragdoll\",\"calico\",None,10,\"f\",False,\"both\",True),\n",
    "    (\"Ava\",\"Smith\",\"dog\",\"mix\",\"blk/wht\",12,32,\"f\",True,\"both\",False),\n",
    "    (\"Schroder\",\"Brown\",\"cat\",\"mix\",\"orange\",13,15,\"m\",False,\"indoor\",True),\n",
    "    (\"Blackbeard\",\"Brown\",\"bird\",\"parrot\",\"multi\",5,3,\"f\",False,\"indoor\",),\n",
    "]"
   ]
  },
  {
   "cell_type": "code",
   "execution_count": 7,
   "id": "24616a34",
   "metadata": {},
   "outputs": [],
   "source": [
    "labels = [\"name\", \"owner\", \"type\", \"breed\", \"color\", \"age\", \"weight\", \"gender\", \"health issues\", \"indoor/outdoor\", \"vaccinated\"]"
   ]
  },
  {
   "cell_type": "code",
   "execution_count": 8,
   "id": "476ed132",
   "metadata": {},
   "outputs": [
    {
     "data": {
      "application/vnd.microsoft.datawrangler.viewer.v0+json": {
       "columns": [
        {
         "name": "index",
         "rawType": "int64",
         "type": "integer"
        },
        {
         "name": "name",
         "rawType": "object",
         "type": "string"
        },
        {
         "name": "owner",
         "rawType": "object",
         "type": "string"
        },
        {
         "name": "type",
         "rawType": "object",
         "type": "string"
        },
        {
         "name": "breed",
         "rawType": "object",
         "type": "string"
        },
        {
         "name": "color",
         "rawType": "object",
         "type": "string"
        },
        {
         "name": "age",
         "rawType": "float64",
         "type": "float"
        },
        {
         "name": "weight",
         "rawType": "int64",
         "type": "integer"
        },
        {
         "name": "gender",
         "rawType": "object",
         "type": "string"
        },
        {
         "name": "health issues",
         "rawType": "bool",
         "type": "boolean"
        },
        {
         "name": "indoor/outdoor",
         "rawType": "object",
         "type": "string"
        },
        {
         "name": "vaccinated",
         "rawType": "object",
         "type": "unknown"
        }
       ],
       "ref": "8b8127c5-d1ad-4500-91bb-6ac28a592b68",
       "rows": [
        [
         "0",
         "Dexter",
         "Johnsons",
         "dog",
         "shiba inu",
         "red sesame",
         "1.5",
         "35",
         "m",
         "False",
         "both",
         "True"
        ],
        [
         "1",
         "Alfred",
         "Johnsons",
         "cat",
         "mix",
         "tuxedo",
         "4.0",
         "12",
         "m",
         "True",
         "indoor",
         "True"
        ],
        [
         "2",
         "Petra",
         "Smith",
         "cat",
         "ragdoll",
         "calico",
         null,
         "10",
         "f",
         "False",
         "both",
         "True"
        ],
        [
         "3",
         "Ava",
         "Smith",
         "dog",
         "mix",
         "blk/wht",
         "12.0",
         "32",
         "f",
         "True",
         "both",
         "False"
        ],
        [
         "4",
         "Schroder",
         "Brown",
         "cat",
         "mix",
         "orange",
         "13.0",
         "15",
         "m",
         "False",
         "indoor",
         "True"
        ],
        [
         "5",
         "Blackbeard",
         "Brown",
         "bird",
         "parrot",
         "multi",
         "5.0",
         "3",
         "f",
         "False",
         "indoor",
         null
        ]
       ],
       "shape": {
        "columns": 11,
        "rows": 6
       }
      },
      "text/html": [
       "<div>\n",
       "<style scoped>\n",
       "    .dataframe tbody tr th:only-of-type {\n",
       "        vertical-align: middle;\n",
       "    }\n",
       "\n",
       "    .dataframe tbody tr th {\n",
       "        vertical-align: top;\n",
       "    }\n",
       "\n",
       "    .dataframe thead th {\n",
       "        text-align: right;\n",
       "    }\n",
       "</style>\n",
       "<table border=\"1\" class=\"dataframe\">\n",
       "  <thead>\n",
       "    <tr style=\"text-align: right;\">\n",
       "      <th></th>\n",
       "      <th>name</th>\n",
       "      <th>owner</th>\n",
       "      <th>type</th>\n",
       "      <th>breed</th>\n",
       "      <th>color</th>\n",
       "      <th>age</th>\n",
       "      <th>weight</th>\n",
       "      <th>gender</th>\n",
       "      <th>health issues</th>\n",
       "      <th>indoor/outdoor</th>\n",
       "      <th>vaccinated</th>\n",
       "    </tr>\n",
       "  </thead>\n",
       "  <tbody>\n",
       "    <tr>\n",
       "      <th>0</th>\n",
       "      <td>Dexter</td>\n",
       "      <td>Johnsons</td>\n",
       "      <td>dog</td>\n",
       "      <td>shiba inu</td>\n",
       "      <td>red sesame</td>\n",
       "      <td>1.5</td>\n",
       "      <td>35</td>\n",
       "      <td>m</td>\n",
       "      <td>False</td>\n",
       "      <td>both</td>\n",
       "      <td>True</td>\n",
       "    </tr>\n",
       "    <tr>\n",
       "      <th>1</th>\n",
       "      <td>Alfred</td>\n",
       "      <td>Johnsons</td>\n",
       "      <td>cat</td>\n",
       "      <td>mix</td>\n",
       "      <td>tuxedo</td>\n",
       "      <td>4.0</td>\n",
       "      <td>12</td>\n",
       "      <td>m</td>\n",
       "      <td>True</td>\n",
       "      <td>indoor</td>\n",
       "      <td>True</td>\n",
       "    </tr>\n",
       "    <tr>\n",
       "      <th>2</th>\n",
       "      <td>Petra</td>\n",
       "      <td>Smith</td>\n",
       "      <td>cat</td>\n",
       "      <td>ragdoll</td>\n",
       "      <td>calico</td>\n",
       "      <td>NaN</td>\n",
       "      <td>10</td>\n",
       "      <td>f</td>\n",
       "      <td>False</td>\n",
       "      <td>both</td>\n",
       "      <td>True</td>\n",
       "    </tr>\n",
       "    <tr>\n",
       "      <th>3</th>\n",
       "      <td>Ava</td>\n",
       "      <td>Smith</td>\n",
       "      <td>dog</td>\n",
       "      <td>mix</td>\n",
       "      <td>blk/wht</td>\n",
       "      <td>12.0</td>\n",
       "      <td>32</td>\n",
       "      <td>f</td>\n",
       "      <td>True</td>\n",
       "      <td>both</td>\n",
       "      <td>False</td>\n",
       "    </tr>\n",
       "    <tr>\n",
       "      <th>4</th>\n",
       "      <td>Schroder</td>\n",
       "      <td>Brown</td>\n",
       "      <td>cat</td>\n",
       "      <td>mix</td>\n",
       "      <td>orange</td>\n",
       "      <td>13.0</td>\n",
       "      <td>15</td>\n",
       "      <td>m</td>\n",
       "      <td>False</td>\n",
       "      <td>indoor</td>\n",
       "      <td>True</td>\n",
       "    </tr>\n",
       "    <tr>\n",
       "      <th>5</th>\n",
       "      <td>Blackbeard</td>\n",
       "      <td>Brown</td>\n",
       "      <td>bird</td>\n",
       "      <td>parrot</td>\n",
       "      <td>multi</td>\n",
       "      <td>5.0</td>\n",
       "      <td>3</td>\n",
       "      <td>f</td>\n",
       "      <td>False</td>\n",
       "      <td>indoor</td>\n",
       "      <td>None</td>\n",
       "    </tr>\n",
       "  </tbody>\n",
       "</table>\n",
       "</div>"
      ],
      "text/plain": [
       "         name     owner  type      breed       color   age  weight gender  \\\n",
       "0      Dexter  Johnsons   dog  shiba inu  red sesame   1.5      35      m   \n",
       "1      Alfred  Johnsons   cat        mix      tuxedo   4.0      12      m   \n",
       "2       Petra     Smith   cat    ragdoll      calico   NaN      10      f   \n",
       "3         Ava     Smith   dog        mix     blk/wht  12.0      32      f   \n",
       "4    Schroder     Brown   cat        mix      orange  13.0      15      m   \n",
       "5  Blackbeard     Brown  bird     parrot       multi   5.0       3      f   \n",
       "\n",
       "   health issues indoor/outdoor vaccinated  \n",
       "0          False           both       True  \n",
       "1           True         indoor       True  \n",
       "2          False           both       True  \n",
       "3           True           both      False  \n",
       "4          False         indoor       True  \n",
       "5          False         indoor       None  "
      ]
     },
     "execution_count": 8,
     "metadata": {},
     "output_type": "execute_result"
    }
   ],
   "source": [
    "vet_records = pd.DataFrame(data, columns=labels)\n",
    "vet_records"
   ]
  },
  {
   "cell_type": "code",
   "execution_count": 11,
   "id": "ddcb41e5",
   "metadata": {},
   "outputs": [],
   "source": [
    "vet_records_archive = vet_records"
   ]
  },
  {
   "cell_type": "code",
   "execution_count": 12,
   "id": "78ef195f",
   "metadata": {},
   "outputs": [
    {
     "data": {
      "application/vnd.microsoft.datawrangler.viewer.v0+json": {
       "columns": [
        {
         "name": "index",
         "rawType": "int64",
         "type": "integer"
        },
        {
         "name": "weight",
         "rawType": "int64",
         "type": "integer"
        }
       ],
       "ref": "98e4411d-27b6-483a-960e-4059b2e073ce",
       "rows": [
        [
         "0",
         "35"
        ],
        [
         "1",
         "12"
        ],
        [
         "2",
         "10"
        ],
        [
         "3",
         "32"
        ],
        [
         "4",
         "15"
        ],
        [
         "5",
         "3"
        ]
       ],
       "shape": {
        "columns": 1,
        "rows": 6
       }
      },
      "text/plain": [
       "0    35\n",
       "1    12\n",
       "2    10\n",
       "3    32\n",
       "4    15\n",
       "5     3\n",
       "Name: weight, dtype: int64"
      ]
     },
     "execution_count": 12,
     "metadata": {},
     "output_type": "execute_result"
    }
   ],
   "source": [
    "weight_records = vet_records['weight']\n",
    "weight_records"
   ]
  },
  {
   "cell_type": "code",
   "execution_count": 15,
   "id": "5f4abf15",
   "metadata": {},
   "outputs": [
    {
     "data": {
      "application/vnd.microsoft.datawrangler.viewer.v0+json": {
       "columns": [
        {
         "name": "index",
         "rawType": "int64",
         "type": "integer"
        },
        {
         "name": "weight",
         "rawType": "int64",
         "type": "integer"
        }
       ],
       "ref": "23151018-9e12-4cfd-baf0-38a1b4151c74",
       "rows": [
        [
         "0",
         "35"
        ],
        [
         "3",
         "32"
        ]
       ],
       "shape": {
        "columns": 1,
        "rows": 2
       }
      },
      "text/plain": [
       "0    35\n",
       "3    32\n",
       "Name: weight, dtype: int64"
      ]
     },
     "execution_count": 15,
     "metadata": {},
     "output_type": "execute_result"
    }
   ],
   "source": [
    "dog_weight_records = vet_records[vet_records['type'] == 'dog']['weight']\n",
    "dog_weight_records = vet_records['weight'][vet_records['type'] == 'dog']\n",
    "dog_weight_records = vet_records.weight[vet_records.type == 'dog']\n",
    "dog_weight_records"
   ]
  },
  {
   "cell_type": "code",
   "execution_count": 17,
   "id": "0057e1cf",
   "metadata": {},
   "outputs": [
    {
     "data": {
      "application/vnd.microsoft.datawrangler.viewer.v0+json": {
       "columns": [
        {
         "name": "index",
         "rawType": "int64",
         "type": "integer"
        },
        {
         "name": "name",
         "rawType": "object",
         "type": "string"
        },
        {
         "name": "owner",
         "rawType": "object",
         "type": "string"
        },
        {
         "name": "type",
         "rawType": "object",
         "type": "string"
        },
        {
         "name": "breed",
         "rawType": "object",
         "type": "string"
        },
        {
         "name": "color",
         "rawType": "object",
         "type": "string"
        },
        {
         "name": "age",
         "rawType": "float64",
         "type": "float"
        },
        {
         "name": "weight",
         "rawType": "int64",
         "type": "integer"
        },
        {
         "name": "gender",
         "rawType": "object",
         "type": "string"
        },
        {
         "name": "health issues",
         "rawType": "bool",
         "type": "boolean"
        },
        {
         "name": "indoor/outdoor",
         "rawType": "object",
         "type": "string"
        },
        {
         "name": "vaccinated",
         "rawType": "object",
         "type": "unknown"
        }
       ],
       "ref": "7596f84d-3bb8-4650-a6d8-a9ac2b66dbf4",
       "rows": [
        [
         "0",
         "Dexter",
         "Johnsons",
         "dog",
         "shiba inu",
         "red sesame",
         "1.5",
         "35",
         "m",
         "False",
         "both",
         "True"
        ],
        [
         "3",
         "Ava",
         "Smith",
         "dog",
         "mix",
         "blk/wht",
         "12.0",
         "32",
         "f",
         "True",
         "both",
         "False"
        ]
       ],
       "shape": {
        "columns": 11,
        "rows": 2
       }
      },
      "text/html": [
       "<div>\n",
       "<style scoped>\n",
       "    .dataframe tbody tr th:only-of-type {\n",
       "        vertical-align: middle;\n",
       "    }\n",
       "\n",
       "    .dataframe tbody tr th {\n",
       "        vertical-align: top;\n",
       "    }\n",
       "\n",
       "    .dataframe thead th {\n",
       "        text-align: right;\n",
       "    }\n",
       "</style>\n",
       "<table border=\"1\" class=\"dataframe\">\n",
       "  <thead>\n",
       "    <tr style=\"text-align: right;\">\n",
       "      <th></th>\n",
       "      <th>name</th>\n",
       "      <th>owner</th>\n",
       "      <th>type</th>\n",
       "      <th>breed</th>\n",
       "      <th>color</th>\n",
       "      <th>age</th>\n",
       "      <th>weight</th>\n",
       "      <th>gender</th>\n",
       "      <th>health issues</th>\n",
       "      <th>indoor/outdoor</th>\n",
       "      <th>vaccinated</th>\n",
       "    </tr>\n",
       "  </thead>\n",
       "  <tbody>\n",
       "    <tr>\n",
       "      <th>0</th>\n",
       "      <td>Dexter</td>\n",
       "      <td>Johnsons</td>\n",
       "      <td>dog</td>\n",
       "      <td>shiba inu</td>\n",
       "      <td>red sesame</td>\n",
       "      <td>1.5</td>\n",
       "      <td>35</td>\n",
       "      <td>m</td>\n",
       "      <td>False</td>\n",
       "      <td>both</td>\n",
       "      <td>True</td>\n",
       "    </tr>\n",
       "    <tr>\n",
       "      <th>3</th>\n",
       "      <td>Ava</td>\n",
       "      <td>Smith</td>\n",
       "      <td>dog</td>\n",
       "      <td>mix</td>\n",
       "      <td>blk/wht</td>\n",
       "      <td>12.0</td>\n",
       "      <td>32</td>\n",
       "      <td>f</td>\n",
       "      <td>True</td>\n",
       "      <td>both</td>\n",
       "      <td>False</td>\n",
       "    </tr>\n",
       "  </tbody>\n",
       "</table>\n",
       "</div>"
      ],
      "text/plain": [
       "     name     owner type      breed       color   age  weight gender  \\\n",
       "0  Dexter  Johnsons  dog  shiba inu  red sesame   1.5      35      m   \n",
       "3     Ava     Smith  dog        mix     blk/wht  12.0      32      f   \n",
       "\n",
       "   health issues indoor/outdoor vaccinated  \n",
       "0          False           both       True  \n",
       "3           True           both      False  "
      ]
     },
     "execution_count": 17,
     "metadata": {},
     "output_type": "execute_result"
    }
   ],
   "source": [
    "dogs_records = vet_records[vet_records.type == 'dog']\n",
    "dogs_records"
   ]
  },
  {
   "cell_type": "code",
   "execution_count": null,
   "id": "b7ed9cc0",
   "metadata": {},
   "outputs": [
    {
     "data": {
      "application/vnd.microsoft.datawrangler.viewer.v0+json": {
       "columns": [
        {
         "name": "index",
         "rawType": "int64",
         "type": "integer"
        },
        {
         "name": "name",
         "rawType": "object",
         "type": "string"
        },
        {
         "name": "owner",
         "rawType": "object",
         "type": "string"
        }
       ],
       "ref": "c03e6d33-e373-4209-a883-c2f2141ef6e6",
       "rows": [
        [
         "2",
         "Petra",
         "Smith"
        ],
        [
         "3",
         "Ava",
         "Smith"
        ]
       ],
       "shape": {
        "columns": 2,
        "rows": 2
       }
      },
      "text/html": [
       "<div>\n",
       "<style scoped>\n",
       "    .dataframe tbody tr th:only-of-type {\n",
       "        vertical-align: middle;\n",
       "    }\n",
       "\n",
       "    .dataframe tbody tr th {\n",
       "        vertical-align: top;\n",
       "    }\n",
       "\n",
       "    .dataframe thead th {\n",
       "        text-align: right;\n",
       "    }\n",
       "</style>\n",
       "<table border=\"1\" class=\"dataframe\">\n",
       "  <thead>\n",
       "    <tr style=\"text-align: right;\">\n",
       "      <th></th>\n",
       "      <th>name</th>\n",
       "      <th>owner</th>\n",
       "    </tr>\n",
       "  </thead>\n",
       "  <tbody>\n",
       "    <tr>\n",
       "      <th>2</th>\n",
       "      <td>Petra</td>\n",
       "      <td>Smith</td>\n",
       "    </tr>\n",
       "    <tr>\n",
       "      <th>3</th>\n",
       "      <td>Ava</td>\n",
       "      <td>Smith</td>\n",
       "    </tr>\n",
       "  </tbody>\n",
       "</table>\n",
       "</div>"
      ],
      "text/plain": [
       "    name  owner\n",
       "2  Petra  Smith\n",
       "3    Ava  Smith"
      ]
     },
     "execution_count": 18,
     "metadata": {},
     "output_type": "execute_result"
    }
   ],
   "source": [
    "# loc slicing [(index rows), (columns labels)]\n",
    "loc_records = vet_records.loc[2:3, [\"name\", \"owner\"]]\n",
    "loc_records"
   ]
  },
  {
   "cell_type": "code",
   "execution_count": null,
   "id": "c0266b14",
   "metadata": {},
   "outputs": [
    {
     "data": {
      "application/vnd.microsoft.datawrangler.viewer.v0+json": {
       "columns": [
        {
         "name": "index",
         "rawType": "int64",
         "type": "integer"
        },
        {
         "name": "color",
         "rawType": "object",
         "type": "string"
        },
        {
         "name": "age",
         "rawType": "float64",
         "type": "float"
        }
       ],
       "ref": "838d3333-a479-4a65-994b-3664cc2bbdd9",
       "rows": [
        [
         "2",
         "calico",
         null
        ],
        [
         "3",
         "blk/wht",
         "12.0"
        ]
       ],
       "shape": {
        "columns": 2,
        "rows": 2
       }
      },
      "text/html": [
       "<div>\n",
       "<style scoped>\n",
       "    .dataframe tbody tr th:only-of-type {\n",
       "        vertical-align: middle;\n",
       "    }\n",
       "\n",
       "    .dataframe tbody tr th {\n",
       "        vertical-align: top;\n",
       "    }\n",
       "\n",
       "    .dataframe thead th {\n",
       "        text-align: right;\n",
       "    }\n",
       "</style>\n",
       "<table border=\"1\" class=\"dataframe\">\n",
       "  <thead>\n",
       "    <tr style=\"text-align: right;\">\n",
       "      <th></th>\n",
       "      <th>color</th>\n",
       "      <th>age</th>\n",
       "    </tr>\n",
       "  </thead>\n",
       "  <tbody>\n",
       "    <tr>\n",
       "      <th>2</th>\n",
       "      <td>calico</td>\n",
       "      <td>NaN</td>\n",
       "    </tr>\n",
       "    <tr>\n",
       "      <th>3</th>\n",
       "      <td>blk/wht</td>\n",
       "      <td>12.0</td>\n",
       "    </tr>\n",
       "  </tbody>\n",
       "</table>\n",
       "</div>"
      ],
      "text/plain": [
       "     color   age\n",
       "2   calico   NaN\n",
       "3  blk/wht  12.0"
      ]
     },
     "execution_count": 20,
     "metadata": {},
     "output_type": "execute_result"
    }
   ],
   "source": [
    "# iloc slicing [(index rows), (index columns)]\n",
    "iloc_records = vet_records.iloc[[2,3], [4,5]]\n",
    "iloc_records"
   ]
  },
  {
   "cell_type": "code",
   "execution_count": 22,
   "id": "f7bed2c5",
   "metadata": {},
   "outputs": [
    {
     "data": {
      "application/vnd.microsoft.datawrangler.viewer.v0+json": {
       "columns": [
        {
         "name": "index",
         "rawType": "int64",
         "type": "integer"
        },
        {
         "name": "name",
         "rawType": "object",
         "type": "string"
        },
        {
         "name": "owner",
         "rawType": "object",
         "type": "string"
        },
        {
         "name": "type",
         "rawType": "object",
         "type": "string"
        },
        {
         "name": "breed",
         "rawType": "object",
         "type": "string"
        },
        {
         "name": "color",
         "rawType": "object",
         "type": "string"
        },
        {
         "name": "age",
         "rawType": "float64",
         "type": "float"
        },
        {
         "name": "weight",
         "rawType": "int64",
         "type": "integer"
        },
        {
         "name": "gender",
         "rawType": "object",
         "type": "string"
        },
        {
         "name": "health issues",
         "rawType": "bool",
         "type": "boolean"
        },
        {
         "name": "indoor/outdoor",
         "rawType": "object",
         "type": "string"
        },
        {
         "name": "vaccinated",
         "rawType": "object",
         "type": "unknown"
        }
       ],
       "ref": "95ce27b3-6d37-4d1b-8a8a-70568ce158f8",
       "rows": [
        [
         "0",
         "Dexter",
         "Johnsons",
         "dog",
         "shiba inu",
         "red sesame",
         "1.5",
         "35",
         "m",
         "False",
         "both",
         "True"
        ],
        [
         "5",
         "Blackbeard",
         "Brown",
         "bird",
         "parrot",
         "multi",
         "5.0",
         "3",
         "f",
         "False",
         "indoor",
         null
        ]
       ],
       "shape": {
        "columns": 11,
        "rows": 2
       }
      },
      "text/html": [
       "<div>\n",
       "<style scoped>\n",
       "    .dataframe tbody tr th:only-of-type {\n",
       "        vertical-align: middle;\n",
       "    }\n",
       "\n",
       "    .dataframe tbody tr th {\n",
       "        vertical-align: top;\n",
       "    }\n",
       "\n",
       "    .dataframe thead th {\n",
       "        text-align: right;\n",
       "    }\n",
       "</style>\n",
       "<table border=\"1\" class=\"dataframe\">\n",
       "  <thead>\n",
       "    <tr style=\"text-align: right;\">\n",
       "      <th></th>\n",
       "      <th>name</th>\n",
       "      <th>owner</th>\n",
       "      <th>type</th>\n",
       "      <th>breed</th>\n",
       "      <th>color</th>\n",
       "      <th>age</th>\n",
       "      <th>weight</th>\n",
       "      <th>gender</th>\n",
       "      <th>health issues</th>\n",
       "      <th>indoor/outdoor</th>\n",
       "      <th>vaccinated</th>\n",
       "    </tr>\n",
       "  </thead>\n",
       "  <tbody>\n",
       "    <tr>\n",
       "      <th>0</th>\n",
       "      <td>Dexter</td>\n",
       "      <td>Johnsons</td>\n",
       "      <td>dog</td>\n",
       "      <td>shiba inu</td>\n",
       "      <td>red sesame</td>\n",
       "      <td>1.5</td>\n",
       "      <td>35</td>\n",
       "      <td>m</td>\n",
       "      <td>False</td>\n",
       "      <td>both</td>\n",
       "      <td>True</td>\n",
       "    </tr>\n",
       "    <tr>\n",
       "      <th>5</th>\n",
       "      <td>Blackbeard</td>\n",
       "      <td>Brown</td>\n",
       "      <td>bird</td>\n",
       "      <td>parrot</td>\n",
       "      <td>multi</td>\n",
       "      <td>5.0</td>\n",
       "      <td>3</td>\n",
       "      <td>f</td>\n",
       "      <td>False</td>\n",
       "      <td>indoor</td>\n",
       "      <td>None</td>\n",
       "    </tr>\n",
       "  </tbody>\n",
       "</table>\n",
       "</div>"
      ],
      "text/plain": [
       "         name     owner  type      breed       color  age  weight gender  \\\n",
       "0      Dexter  Johnsons   dog  shiba inu  red sesame  1.5      35      m   \n",
       "5  Blackbeard     Brown  bird     parrot       multi  5.0       3      f   \n",
       "\n",
       "   health issues indoor/outdoor vaccinated  \n",
       "0          False           both       True  \n",
       "5          False         indoor       None  "
      ]
     },
     "execution_count": 22,
     "metadata": {},
     "output_type": "execute_result"
    }
   ],
   "source": [
    "dexter_blackbeard_records = vet_records[vet_records.name.isin([\"Dexter\", \"Blackbeard\"])]\n",
    "dexter_blackbeard_records"
   ]
  },
  {
   "cell_type": "code",
   "execution_count": 23,
   "id": "8bcf298e",
   "metadata": {},
   "outputs": [
    {
     "data": {
      "application/vnd.microsoft.datawrangler.viewer.v0+json": {
       "columns": [
        {
         "name": "index",
         "rawType": "int64",
         "type": "integer"
        },
        {
         "name": "name",
         "rawType": "object",
         "type": "string"
        },
        {
         "name": "owner",
         "rawType": "object",
         "type": "string"
        },
        {
         "name": "type",
         "rawType": "object",
         "type": "string"
        },
        {
         "name": "breed",
         "rawType": "object",
         "type": "string"
        },
        {
         "name": "color",
         "rawType": "object",
         "type": "string"
        },
        {
         "name": "age",
         "rawType": "float64",
         "type": "float"
        },
        {
         "name": "weight",
         "rawType": "int64",
         "type": "integer"
        },
        {
         "name": "gender",
         "rawType": "object",
         "type": "string"
        },
        {
         "name": "health issues",
         "rawType": "bool",
         "type": "boolean"
        },
        {
         "name": "indoor/outdoor",
         "rawType": "object",
         "type": "string"
        },
        {
         "name": "vaccinated",
         "rawType": "object",
         "type": "unknown"
        }
       ],
       "ref": "60a0c06b-c50b-481a-988f-324fb3cc9632",
       "rows": [
        [
         "1",
         "Alfred",
         "Johnsons",
         "cat",
         "mix",
         "tuxedo",
         "4.0",
         "12",
         "m",
         "True",
         "indoor",
         "True"
        ],
        [
         "2",
         "Petra",
         "Smith",
         "cat",
         "ragdoll",
         "calico",
         null,
         "10",
         "f",
         "False",
         "both",
         "True"
        ],
        [
         "3",
         "Ava",
         "Smith",
         "dog",
         "mix",
         "blk/wht",
         "12.0",
         "32",
         "f",
         "True",
         "both",
         "False"
        ],
        [
         "4",
         "Schroder",
         "Brown",
         "cat",
         "mix",
         "orange",
         "13.0",
         "15",
         "m",
         "False",
         "indoor",
         "True"
        ]
       ],
       "shape": {
        "columns": 11,
        "rows": 4
       }
      },
      "text/html": [
       "<div>\n",
       "<style scoped>\n",
       "    .dataframe tbody tr th:only-of-type {\n",
       "        vertical-align: middle;\n",
       "    }\n",
       "\n",
       "    .dataframe tbody tr th {\n",
       "        vertical-align: top;\n",
       "    }\n",
       "\n",
       "    .dataframe thead th {\n",
       "        text-align: right;\n",
       "    }\n",
       "</style>\n",
       "<table border=\"1\" class=\"dataframe\">\n",
       "  <thead>\n",
       "    <tr style=\"text-align: right;\">\n",
       "      <th></th>\n",
       "      <th>name</th>\n",
       "      <th>owner</th>\n",
       "      <th>type</th>\n",
       "      <th>breed</th>\n",
       "      <th>color</th>\n",
       "      <th>age</th>\n",
       "      <th>weight</th>\n",
       "      <th>gender</th>\n",
       "      <th>health issues</th>\n",
       "      <th>indoor/outdoor</th>\n",
       "      <th>vaccinated</th>\n",
       "    </tr>\n",
       "  </thead>\n",
       "  <tbody>\n",
       "    <tr>\n",
       "      <th>1</th>\n",
       "      <td>Alfred</td>\n",
       "      <td>Johnsons</td>\n",
       "      <td>cat</td>\n",
       "      <td>mix</td>\n",
       "      <td>tuxedo</td>\n",
       "      <td>4.0</td>\n",
       "      <td>12</td>\n",
       "      <td>m</td>\n",
       "      <td>True</td>\n",
       "      <td>indoor</td>\n",
       "      <td>True</td>\n",
       "    </tr>\n",
       "    <tr>\n",
       "      <th>2</th>\n",
       "      <td>Petra</td>\n",
       "      <td>Smith</td>\n",
       "      <td>cat</td>\n",
       "      <td>ragdoll</td>\n",
       "      <td>calico</td>\n",
       "      <td>NaN</td>\n",
       "      <td>10</td>\n",
       "      <td>f</td>\n",
       "      <td>False</td>\n",
       "      <td>both</td>\n",
       "      <td>True</td>\n",
       "    </tr>\n",
       "    <tr>\n",
       "      <th>3</th>\n",
       "      <td>Ava</td>\n",
       "      <td>Smith</td>\n",
       "      <td>dog</td>\n",
       "      <td>mix</td>\n",
       "      <td>blk/wht</td>\n",
       "      <td>12.0</td>\n",
       "      <td>32</td>\n",
       "      <td>f</td>\n",
       "      <td>True</td>\n",
       "      <td>both</td>\n",
       "      <td>False</td>\n",
       "    </tr>\n",
       "    <tr>\n",
       "      <th>4</th>\n",
       "      <td>Schroder</td>\n",
       "      <td>Brown</td>\n",
       "      <td>cat</td>\n",
       "      <td>mix</td>\n",
       "      <td>orange</td>\n",
       "      <td>13.0</td>\n",
       "      <td>15</td>\n",
       "      <td>m</td>\n",
       "      <td>False</td>\n",
       "      <td>indoor</td>\n",
       "      <td>True</td>\n",
       "    </tr>\n",
       "  </tbody>\n",
       "</table>\n",
       "</div>"
      ],
      "text/plain": [
       "       name     owner type    breed    color   age  weight gender  \\\n",
       "1    Alfred  Johnsons  cat      mix   tuxedo   4.0      12      m   \n",
       "2     Petra     Smith  cat  ragdoll   calico   NaN      10      f   \n",
       "3       Ava     Smith  dog      mix  blk/wht  12.0      32      f   \n",
       "4  Schroder     Brown  cat      mix   orange  13.0      15      m   \n",
       "\n",
       "   health issues indoor/outdoor vaccinated  \n",
       "1           True         indoor       True  \n",
       "2          False           both       True  \n",
       "3           True           both      False  \n",
       "4          False         indoor       True  "
      ]
     },
     "execution_count": 23,
     "metadata": {},
     "output_type": "execute_result"
    }
   ],
   "source": [
    "not_dexter_blackbeard_records = vet_records[~vet_records.name.isin([\"Dexter\", \"Blackbeard\"])]\n",
    "not_dexter_blackbeard_records"
   ]
  }
 ],
 "metadata": {
  "kernelspec": {
   "display_name": ".venv",
   "language": "python",
   "name": "python3"
  },
  "language_info": {
   "codemirror_mode": {
    "name": "ipython",
    "version": 3
   },
   "file_extension": ".py",
   "mimetype": "text/x-python",
   "name": "python",
   "nbconvert_exporter": "python",
   "pygments_lexer": "ipython3",
   "version": "3.12.3"
  }
 },
 "nbformat": 4,
 "nbformat_minor": 5
}
