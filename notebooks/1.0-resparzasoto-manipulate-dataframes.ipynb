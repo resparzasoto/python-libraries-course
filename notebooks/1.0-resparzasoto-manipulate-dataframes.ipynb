{
 "cells": [
  {
   "cell_type": "code",
   "execution_count": 2,
   "id": "53301498",
   "metadata": {},
   "outputs": [],
   "source": [
    "import pandas as pd"
   ]
  },
  {
   "cell_type": "code",
   "execution_count": 3,
   "id": "2201eca3",
   "metadata": {},
   "outputs": [],
   "source": [
    "data = [\n",
    "    (\"Dexter\",\"Johnsons\",\"dog\",\"shiba inu\",\"red sesame\",1.5,35,\"m\",False,\"both\",True),\n",
    "    (\"Alfred\",\"Johnsons\",\"cat\",\"mix\",\"tuxedo\",4,12,\"m\",True,\"indoor\",True),\n",
    "    (\"Petra\",\"Smith\",\"cat\",\"ragdoll\",\"calico\",None,10,\"f\",False,\"both\",True),\n",
    "    (\"Ava\",\"Smith\",\"dog\",\"mix\",\"blk/wht\",12,32,\"f\",True,\"both\",False),\n",
    "    (\"Schroder\",\"Brown\",\"cat\",\"mix\",\"orange\",13,15,\"m\",False,\"indoor\",True),\n",
    "    (\"Blackbeard\",\"Brown\",\"bird\",\"parrot\",\"multi\",5,3,\"f\",False,\"indoor\",),\n",
    "]"
   ]
  },
  {
   "cell_type": "code",
   "execution_count": 4,
   "id": "72705ec3",
   "metadata": {},
   "outputs": [],
   "source": [
    "labels = [\"name\", \"owner\", \"type\", \"breed\", \"color\", \"age\", \"weight\", \"gender\", \"health issues\", \"indoor/outdoor\", \"vaccinated\"]"
   ]
  },
  {
   "cell_type": "code",
   "execution_count": 5,
   "id": "ddb41d38",
   "metadata": {},
   "outputs": [
    {
     "data": {
      "application/vnd.microsoft.datawrangler.viewer.v0+json": {
       "columns": [
        {
         "name": "index",
         "rawType": "int64",
         "type": "integer"
        },
        {
         "name": "name",
         "rawType": "object",
         "type": "string"
        },
        {
         "name": "owner",
         "rawType": "object",
         "type": "string"
        },
        {
         "name": "type",
         "rawType": "object",
         "type": "string"
        },
        {
         "name": "breed",
         "rawType": "object",
         "type": "string"
        },
        {
         "name": "color",
         "rawType": "object",
         "type": "string"
        },
        {
         "name": "age",
         "rawType": "float64",
         "type": "float"
        },
        {
         "name": "weight",
         "rawType": "int64",
         "type": "integer"
        },
        {
         "name": "gender",
         "rawType": "object",
         "type": "string"
        },
        {
         "name": "health issues",
         "rawType": "bool",
         "type": "boolean"
        },
        {
         "name": "indoor/outdoor",
         "rawType": "object",
         "type": "string"
        },
        {
         "name": "vaccinated",
         "rawType": "object",
         "type": "unknown"
        }
       ],
       "ref": "7ba3507d-d11e-432e-8280-309275263afa",
       "rows": [
        [
         "0",
         "Dexter",
         "Johnsons",
         "dog",
         "shiba inu",
         "red sesame",
         "1.5",
         "35",
         "m",
         "False",
         "both",
         "True"
        ],
        [
         "1",
         "Alfred",
         "Johnsons",
         "cat",
         "mix",
         "tuxedo",
         "4.0",
         "12",
         "m",
         "True",
         "indoor",
         "True"
        ],
        [
         "2",
         "Petra",
         "Smith",
         "cat",
         "ragdoll",
         "calico",
         null,
         "10",
         "f",
         "False",
         "both",
         "True"
        ],
        [
         "3",
         "Ava",
         "Smith",
         "dog",
         "mix",
         "blk/wht",
         "12.0",
         "32",
         "f",
         "True",
         "both",
         "False"
        ],
        [
         "4",
         "Schroder",
         "Brown",
         "cat",
         "mix",
         "orange",
         "13.0",
         "15",
         "m",
         "False",
         "indoor",
         "True"
        ],
        [
         "5",
         "Blackbeard",
         "Brown",
         "bird",
         "parrot",
         "multi",
         "5.0",
         "3",
         "f",
         "False",
         "indoor",
         null
        ]
       ],
       "shape": {
        "columns": 11,
        "rows": 6
       }
      },
      "text/html": [
       "<div>\n",
       "<style scoped>\n",
       "    .dataframe tbody tr th:only-of-type {\n",
       "        vertical-align: middle;\n",
       "    }\n",
       "\n",
       "    .dataframe tbody tr th {\n",
       "        vertical-align: top;\n",
       "    }\n",
       "\n",
       "    .dataframe thead th {\n",
       "        text-align: right;\n",
       "    }\n",
       "</style>\n",
       "<table border=\"1\" class=\"dataframe\">\n",
       "  <thead>\n",
       "    <tr style=\"text-align: right;\">\n",
       "      <th></th>\n",
       "      <th>name</th>\n",
       "      <th>owner</th>\n",
       "      <th>type</th>\n",
       "      <th>breed</th>\n",
       "      <th>color</th>\n",
       "      <th>age</th>\n",
       "      <th>weight</th>\n",
       "      <th>gender</th>\n",
       "      <th>health issues</th>\n",
       "      <th>indoor/outdoor</th>\n",
       "      <th>vaccinated</th>\n",
       "    </tr>\n",
       "  </thead>\n",
       "  <tbody>\n",
       "    <tr>\n",
       "      <th>0</th>\n",
       "      <td>Dexter</td>\n",
       "      <td>Johnsons</td>\n",
       "      <td>dog</td>\n",
       "      <td>shiba inu</td>\n",
       "      <td>red sesame</td>\n",
       "      <td>1.5</td>\n",
       "      <td>35</td>\n",
       "      <td>m</td>\n",
       "      <td>False</td>\n",
       "      <td>both</td>\n",
       "      <td>True</td>\n",
       "    </tr>\n",
       "    <tr>\n",
       "      <th>1</th>\n",
       "      <td>Alfred</td>\n",
       "      <td>Johnsons</td>\n",
       "      <td>cat</td>\n",
       "      <td>mix</td>\n",
       "      <td>tuxedo</td>\n",
       "      <td>4.0</td>\n",
       "      <td>12</td>\n",
       "      <td>m</td>\n",
       "      <td>True</td>\n",
       "      <td>indoor</td>\n",
       "      <td>True</td>\n",
       "    </tr>\n",
       "    <tr>\n",
       "      <th>2</th>\n",
       "      <td>Petra</td>\n",
       "      <td>Smith</td>\n",
       "      <td>cat</td>\n",
       "      <td>ragdoll</td>\n",
       "      <td>calico</td>\n",
       "      <td>NaN</td>\n",
       "      <td>10</td>\n",
       "      <td>f</td>\n",
       "      <td>False</td>\n",
       "      <td>both</td>\n",
       "      <td>True</td>\n",
       "    </tr>\n",
       "    <tr>\n",
       "      <th>3</th>\n",
       "      <td>Ava</td>\n",
       "      <td>Smith</td>\n",
       "      <td>dog</td>\n",
       "      <td>mix</td>\n",
       "      <td>blk/wht</td>\n",
       "      <td>12.0</td>\n",
       "      <td>32</td>\n",
       "      <td>f</td>\n",
       "      <td>True</td>\n",
       "      <td>both</td>\n",
       "      <td>False</td>\n",
       "    </tr>\n",
       "    <tr>\n",
       "      <th>4</th>\n",
       "      <td>Schroder</td>\n",
       "      <td>Brown</td>\n",
       "      <td>cat</td>\n",
       "      <td>mix</td>\n",
       "      <td>orange</td>\n",
       "      <td>13.0</td>\n",
       "      <td>15</td>\n",
       "      <td>m</td>\n",
       "      <td>False</td>\n",
       "      <td>indoor</td>\n",
       "      <td>True</td>\n",
       "    </tr>\n",
       "    <tr>\n",
       "      <th>5</th>\n",
       "      <td>Blackbeard</td>\n",
       "      <td>Brown</td>\n",
       "      <td>bird</td>\n",
       "      <td>parrot</td>\n",
       "      <td>multi</td>\n",
       "      <td>5.0</td>\n",
       "      <td>3</td>\n",
       "      <td>f</td>\n",
       "      <td>False</td>\n",
       "      <td>indoor</td>\n",
       "      <td>None</td>\n",
       "    </tr>\n",
       "  </tbody>\n",
       "</table>\n",
       "</div>"
      ],
      "text/plain": [
       "         name     owner  type      breed       color   age  weight gender  \\\n",
       "0      Dexter  Johnsons   dog  shiba inu  red sesame   1.5      35      m   \n",
       "1      Alfred  Johnsons   cat        mix      tuxedo   4.0      12      m   \n",
       "2       Petra     Smith   cat    ragdoll      calico   NaN      10      f   \n",
       "3         Ava     Smith   dog        mix     blk/wht  12.0      32      f   \n",
       "4    Schroder     Brown   cat        mix      orange  13.0      15      m   \n",
       "5  Blackbeard     Brown  bird     parrot       multi   5.0       3      f   \n",
       "\n",
       "   health issues indoor/outdoor vaccinated  \n",
       "0          False           both       True  \n",
       "1           True         indoor       True  \n",
       "2          False           both       True  \n",
       "3           True           both      False  \n",
       "4          False         indoor       True  \n",
       "5          False         indoor       None  "
      ]
     },
     "execution_count": 5,
     "metadata": {},
     "output_type": "execute_result"
    }
   ],
   "source": [
    "vet_records = pd.DataFrame(data, columns=labels)\n",
    "vet_records"
   ]
  },
  {
   "cell_type": "code",
   "execution_count": 7,
   "id": "10f8f405",
   "metadata": {},
   "outputs": [
    {
     "data": {
      "application/vnd.microsoft.datawrangler.viewer.v0+json": {
       "columns": [
        {
         "name": "index",
         "rawType": "int64",
         "type": "integer"
        },
        {
         "name": "name",
         "rawType": "object",
         "type": "string"
        },
        {
         "name": "owner",
         "rawType": "object",
         "type": "string"
        },
        {
         "name": "type",
         "rawType": "object",
         "type": "string"
        },
        {
         "name": "breed",
         "rawType": "object",
         "type": "string"
        },
        {
         "name": "color",
         "rawType": "object",
         "type": "string"
        },
        {
         "name": "age",
         "rawType": "float64",
         "type": "float"
        },
        {
         "name": "weight",
         "rawType": "int64",
         "type": "integer"
        },
        {
         "name": "gender",
         "rawType": "object",
         "type": "string"
        },
        {
         "name": "health issues",
         "rawType": "bool",
         "type": "boolean"
        },
        {
         "name": "indoor/outdoor",
         "rawType": "object",
         "type": "string"
        },
        {
         "name": "vaccinated",
         "rawType": "object",
         "type": "unknown"
        }
       ],
       "ref": "1939c5c2-fb27-4700-b2a2-217bafd6257b",
       "rows": [
        [
         "0",
         "Dexter",
         "Johnsons",
         "dog",
         "shiba inu",
         "red sesame",
         "1.5",
         "35",
         "m",
         "False",
         "both",
         "True"
        ],
        [
         "1",
         "Alfred",
         "Johnsons",
         "cat",
         "mix",
         "tuxedo",
         "4.0",
         "12",
         "m",
         "True",
         "indoor",
         "True"
        ],
        [
         "2",
         "Petra",
         "Smith",
         "cat",
         "ragdoll",
         "calico",
         null,
         "10",
         "f",
         "False",
         "both",
         "True"
        ],
        [
         "3",
         "Ava",
         "Smith",
         "dog",
         "mix",
         "blk/wht",
         "12.0",
         "32",
         "f",
         "True",
         "both",
         "False"
        ],
        [
         "4",
         "Schroder",
         "Brown",
         "cat",
         "mix",
         "orange",
         "13.0",
         "15",
         "m",
         "False",
         "indoor",
         "True"
        ]
       ],
       "shape": {
        "columns": 11,
        "rows": 5
       }
      },
      "text/html": [
       "<div>\n",
       "<style scoped>\n",
       "    .dataframe tbody tr th:only-of-type {\n",
       "        vertical-align: middle;\n",
       "    }\n",
       "\n",
       "    .dataframe tbody tr th {\n",
       "        vertical-align: top;\n",
       "    }\n",
       "\n",
       "    .dataframe thead th {\n",
       "        text-align: right;\n",
       "    }\n",
       "</style>\n",
       "<table border=\"1\" class=\"dataframe\">\n",
       "  <thead>\n",
       "    <tr style=\"text-align: right;\">\n",
       "      <th></th>\n",
       "      <th>name</th>\n",
       "      <th>owner</th>\n",
       "      <th>type</th>\n",
       "      <th>breed</th>\n",
       "      <th>color</th>\n",
       "      <th>age</th>\n",
       "      <th>weight</th>\n",
       "      <th>gender</th>\n",
       "      <th>health issues</th>\n",
       "      <th>indoor/outdoor</th>\n",
       "      <th>vaccinated</th>\n",
       "    </tr>\n",
       "  </thead>\n",
       "  <tbody>\n",
       "    <tr>\n",
       "      <th>0</th>\n",
       "      <td>Dexter</td>\n",
       "      <td>Johnsons</td>\n",
       "      <td>dog</td>\n",
       "      <td>shiba inu</td>\n",
       "      <td>red sesame</td>\n",
       "      <td>1.5</td>\n",
       "      <td>35</td>\n",
       "      <td>m</td>\n",
       "      <td>False</td>\n",
       "      <td>both</td>\n",
       "      <td>True</td>\n",
       "    </tr>\n",
       "    <tr>\n",
       "      <th>1</th>\n",
       "      <td>Alfred</td>\n",
       "      <td>Johnsons</td>\n",
       "      <td>cat</td>\n",
       "      <td>mix</td>\n",
       "      <td>tuxedo</td>\n",
       "      <td>4.0</td>\n",
       "      <td>12</td>\n",
       "      <td>m</td>\n",
       "      <td>True</td>\n",
       "      <td>indoor</td>\n",
       "      <td>True</td>\n",
       "    </tr>\n",
       "    <tr>\n",
       "      <th>2</th>\n",
       "      <td>Petra</td>\n",
       "      <td>Smith</td>\n",
       "      <td>cat</td>\n",
       "      <td>ragdoll</td>\n",
       "      <td>calico</td>\n",
       "      <td>NaN</td>\n",
       "      <td>10</td>\n",
       "      <td>f</td>\n",
       "      <td>False</td>\n",
       "      <td>both</td>\n",
       "      <td>True</td>\n",
       "    </tr>\n",
       "    <tr>\n",
       "      <th>3</th>\n",
       "      <td>Ava</td>\n",
       "      <td>Smith</td>\n",
       "      <td>dog</td>\n",
       "      <td>mix</td>\n",
       "      <td>blk/wht</td>\n",
       "      <td>12.0</td>\n",
       "      <td>32</td>\n",
       "      <td>f</td>\n",
       "      <td>True</td>\n",
       "      <td>both</td>\n",
       "      <td>False</td>\n",
       "    </tr>\n",
       "    <tr>\n",
       "      <th>4</th>\n",
       "      <td>Schroder</td>\n",
       "      <td>Brown</td>\n",
       "      <td>cat</td>\n",
       "      <td>mix</td>\n",
       "      <td>orange</td>\n",
       "      <td>13.0</td>\n",
       "      <td>15</td>\n",
       "      <td>m</td>\n",
       "      <td>False</td>\n",
       "      <td>indoor</td>\n",
       "      <td>True</td>\n",
       "    </tr>\n",
       "  </tbody>\n",
       "</table>\n",
       "</div>"
      ],
      "text/plain": [
       "       name     owner type      breed       color   age  weight gender  \\\n",
       "0    Dexter  Johnsons  dog  shiba inu  red sesame   1.5      35      m   \n",
       "1    Alfred  Johnsons  cat        mix      tuxedo   4.0      12      m   \n",
       "2     Petra     Smith  cat    ragdoll      calico   NaN      10      f   \n",
       "3       Ava     Smith  dog        mix     blk/wht  12.0      32      f   \n",
       "4  Schroder     Brown  cat        mix      orange  13.0      15      m   \n",
       "\n",
       "   health issues indoor/outdoor vaccinated  \n",
       "0          False           both       True  \n",
       "1           True         indoor       True  \n",
       "2          False           both       True  \n",
       "3           True           both      False  \n",
       "4          False         indoor       True  "
      ]
     },
     "execution_count": 7,
     "metadata": {},
     "output_type": "execute_result"
    }
   ],
   "source": [
    "vet_records.head()"
   ]
  },
  {
   "cell_type": "code",
   "execution_count": 8,
   "id": "bdc09472",
   "metadata": {},
   "outputs": [
    {
     "data": {
      "application/vnd.microsoft.datawrangler.viewer.v0+json": {
       "columns": [
        {
         "name": "index",
         "rawType": "int64",
         "type": "integer"
        },
        {
         "name": "name",
         "rawType": "object",
         "type": "string"
        },
        {
         "name": "owner",
         "rawType": "object",
         "type": "string"
        },
        {
         "name": "type",
         "rawType": "object",
         "type": "string"
        },
        {
         "name": "breed",
         "rawType": "object",
         "type": "string"
        },
        {
         "name": "color",
         "rawType": "object",
         "type": "string"
        },
        {
         "name": "age",
         "rawType": "float64",
         "type": "float"
        },
        {
         "name": "weight",
         "rawType": "int64",
         "type": "integer"
        },
        {
         "name": "gender",
         "rawType": "object",
         "type": "string"
        },
        {
         "name": "health issues",
         "rawType": "bool",
         "type": "boolean"
        },
        {
         "name": "indoor/outdoor",
         "rawType": "object",
         "type": "string"
        },
        {
         "name": "vaccinated",
         "rawType": "object",
         "type": "unknown"
        }
       ],
       "ref": "c6955d2b-408d-4497-b697-3344505f73a1",
       "rows": [
        [
         "1",
         "Alfred",
         "Johnsons",
         "cat",
         "mix",
         "tuxedo",
         "4.0",
         "12",
         "m",
         "True",
         "indoor",
         "True"
        ],
        [
         "2",
         "Petra",
         "Smith",
         "cat",
         "ragdoll",
         "calico",
         null,
         "10",
         "f",
         "False",
         "both",
         "True"
        ],
        [
         "3",
         "Ava",
         "Smith",
         "dog",
         "mix",
         "blk/wht",
         "12.0",
         "32",
         "f",
         "True",
         "both",
         "False"
        ],
        [
         "4",
         "Schroder",
         "Brown",
         "cat",
         "mix",
         "orange",
         "13.0",
         "15",
         "m",
         "False",
         "indoor",
         "True"
        ],
        [
         "5",
         "Blackbeard",
         "Brown",
         "bird",
         "parrot",
         "multi",
         "5.0",
         "3",
         "f",
         "False",
         "indoor",
         null
        ]
       ],
       "shape": {
        "columns": 11,
        "rows": 5
       }
      },
      "text/html": [
       "<div>\n",
       "<style scoped>\n",
       "    .dataframe tbody tr th:only-of-type {\n",
       "        vertical-align: middle;\n",
       "    }\n",
       "\n",
       "    .dataframe tbody tr th {\n",
       "        vertical-align: top;\n",
       "    }\n",
       "\n",
       "    .dataframe thead th {\n",
       "        text-align: right;\n",
       "    }\n",
       "</style>\n",
       "<table border=\"1\" class=\"dataframe\">\n",
       "  <thead>\n",
       "    <tr style=\"text-align: right;\">\n",
       "      <th></th>\n",
       "      <th>name</th>\n",
       "      <th>owner</th>\n",
       "      <th>type</th>\n",
       "      <th>breed</th>\n",
       "      <th>color</th>\n",
       "      <th>age</th>\n",
       "      <th>weight</th>\n",
       "      <th>gender</th>\n",
       "      <th>health issues</th>\n",
       "      <th>indoor/outdoor</th>\n",
       "      <th>vaccinated</th>\n",
       "    </tr>\n",
       "  </thead>\n",
       "  <tbody>\n",
       "    <tr>\n",
       "      <th>1</th>\n",
       "      <td>Alfred</td>\n",
       "      <td>Johnsons</td>\n",
       "      <td>cat</td>\n",
       "      <td>mix</td>\n",
       "      <td>tuxedo</td>\n",
       "      <td>4.0</td>\n",
       "      <td>12</td>\n",
       "      <td>m</td>\n",
       "      <td>True</td>\n",
       "      <td>indoor</td>\n",
       "      <td>True</td>\n",
       "    </tr>\n",
       "    <tr>\n",
       "      <th>2</th>\n",
       "      <td>Petra</td>\n",
       "      <td>Smith</td>\n",
       "      <td>cat</td>\n",
       "      <td>ragdoll</td>\n",
       "      <td>calico</td>\n",
       "      <td>NaN</td>\n",
       "      <td>10</td>\n",
       "      <td>f</td>\n",
       "      <td>False</td>\n",
       "      <td>both</td>\n",
       "      <td>True</td>\n",
       "    </tr>\n",
       "    <tr>\n",
       "      <th>3</th>\n",
       "      <td>Ava</td>\n",
       "      <td>Smith</td>\n",
       "      <td>dog</td>\n",
       "      <td>mix</td>\n",
       "      <td>blk/wht</td>\n",
       "      <td>12.0</td>\n",
       "      <td>32</td>\n",
       "      <td>f</td>\n",
       "      <td>True</td>\n",
       "      <td>both</td>\n",
       "      <td>False</td>\n",
       "    </tr>\n",
       "    <tr>\n",
       "      <th>4</th>\n",
       "      <td>Schroder</td>\n",
       "      <td>Brown</td>\n",
       "      <td>cat</td>\n",
       "      <td>mix</td>\n",
       "      <td>orange</td>\n",
       "      <td>13.0</td>\n",
       "      <td>15</td>\n",
       "      <td>m</td>\n",
       "      <td>False</td>\n",
       "      <td>indoor</td>\n",
       "      <td>True</td>\n",
       "    </tr>\n",
       "    <tr>\n",
       "      <th>5</th>\n",
       "      <td>Blackbeard</td>\n",
       "      <td>Brown</td>\n",
       "      <td>bird</td>\n",
       "      <td>parrot</td>\n",
       "      <td>multi</td>\n",
       "      <td>5.0</td>\n",
       "      <td>3</td>\n",
       "      <td>f</td>\n",
       "      <td>False</td>\n",
       "      <td>indoor</td>\n",
       "      <td>None</td>\n",
       "    </tr>\n",
       "  </tbody>\n",
       "</table>\n",
       "</div>"
      ],
      "text/plain": [
       "         name     owner  type    breed    color   age  weight gender  \\\n",
       "1      Alfred  Johnsons   cat      mix   tuxedo   4.0      12      m   \n",
       "2       Petra     Smith   cat  ragdoll   calico   NaN      10      f   \n",
       "3         Ava     Smith   dog      mix  blk/wht  12.0      32      f   \n",
       "4    Schroder     Brown   cat      mix   orange  13.0      15      m   \n",
       "5  Blackbeard     Brown  bird   parrot    multi   5.0       3      f   \n",
       "\n",
       "   health issues indoor/outdoor vaccinated  \n",
       "1           True         indoor       True  \n",
       "2          False           both       True  \n",
       "3           True           both      False  \n",
       "4          False         indoor       True  \n",
       "5          False         indoor       None  "
      ]
     },
     "execution_count": 8,
     "metadata": {},
     "output_type": "execute_result"
    }
   ],
   "source": [
    "vet_records.tail()"
   ]
  },
  {
   "cell_type": "code",
   "execution_count": 9,
   "id": "a8373818",
   "metadata": {},
   "outputs": [
    {
     "data": {
      "application/vnd.microsoft.datawrangler.viewer.v0+json": {
       "columns": [
        {
         "name": "index",
         "rawType": "object",
         "type": "string"
        },
        {
         "name": "0",
         "rawType": "object",
         "type": "unknown"
        }
       ],
       "ref": "fe74be56-15ce-486d-b58f-3fb6e40efcc6",
       "rows": [
        [
         "name",
         "object"
        ],
        [
         "owner",
         "object"
        ],
        [
         "type",
         "object"
        ],
        [
         "breed",
         "object"
        ],
        [
         "color",
         "object"
        ],
        [
         "age",
         "float64"
        ],
        [
         "weight",
         "int64"
        ],
        [
         "gender",
         "object"
        ],
        [
         "health issues",
         "bool"
        ],
        [
         "indoor/outdoor",
         "object"
        ],
        [
         "vaccinated",
         "object"
        ]
       ],
       "shape": {
        "columns": 1,
        "rows": 11
       }
      },
      "text/plain": [
       "name               object\n",
       "owner              object\n",
       "type               object\n",
       "breed              object\n",
       "color              object\n",
       "age               float64\n",
       "weight              int64\n",
       "gender             object\n",
       "health issues        bool\n",
       "indoor/outdoor     object\n",
       "vaccinated         object\n",
       "dtype: object"
      ]
     },
     "execution_count": 9,
     "metadata": {},
     "output_type": "execute_result"
    }
   ],
   "source": [
    "vet_records.dtypes"
   ]
  },
  {
   "cell_type": "code",
   "execution_count": 10,
   "id": "182c6a5a",
   "metadata": {},
   "outputs": [
    {
     "data": {
      "text/plain": [
       "np.int64(6)"
      ]
     },
     "execution_count": 10,
     "metadata": {},
     "output_type": "execute_result"
    }
   ],
   "source": [
    "vet_records.type.count()"
   ]
  },
  {
   "cell_type": "code",
   "execution_count": 11,
   "id": "251b866f",
   "metadata": {},
   "outputs": [
    {
     "data": {
      "text/plain": [
       "np.int64(5)"
      ]
     },
     "execution_count": 11,
     "metadata": {},
     "output_type": "execute_result"
    }
   ],
   "source": [
    "vet_records.vaccinated.count()"
   ]
  },
  {
   "cell_type": "code",
   "execution_count": 12,
   "id": "5867daf8",
   "metadata": {},
   "outputs": [
    {
     "data": {
      "application/vnd.microsoft.datawrangler.viewer.v0+json": {
       "columns": [
        {
         "name": "type",
         "rawType": "object",
         "type": "string"
        },
        {
         "name": "name",
         "rawType": "int64",
         "type": "integer"
        },
        {
         "name": "owner",
         "rawType": "int64",
         "type": "integer"
        },
        {
         "name": "breed",
         "rawType": "int64",
         "type": "integer"
        },
        {
         "name": "color",
         "rawType": "int64",
         "type": "integer"
        },
        {
         "name": "age",
         "rawType": "int64",
         "type": "integer"
        },
        {
         "name": "weight",
         "rawType": "int64",
         "type": "integer"
        },
        {
         "name": "gender",
         "rawType": "int64",
         "type": "integer"
        },
        {
         "name": "health issues",
         "rawType": "int64",
         "type": "integer"
        },
        {
         "name": "indoor/outdoor",
         "rawType": "int64",
         "type": "integer"
        },
        {
         "name": "vaccinated",
         "rawType": "int64",
         "type": "integer"
        }
       ],
       "ref": "d924f24c-9090-44c5-ad61-905246621617",
       "rows": [
        [
         "bird",
         "1",
         "1",
         "1",
         "1",
         "1",
         "1",
         "1",
         "1",
         "1",
         "0"
        ],
        [
         "cat",
         "3",
         "3",
         "3",
         "3",
         "2",
         "3",
         "3",
         "3",
         "3",
         "3"
        ],
        [
         "dog",
         "2",
         "2",
         "2",
         "2",
         "2",
         "2",
         "2",
         "2",
         "2",
         "2"
        ]
       ],
       "shape": {
        "columns": 10,
        "rows": 3
       }
      },
      "text/html": [
       "<div>\n",
       "<style scoped>\n",
       "    .dataframe tbody tr th:only-of-type {\n",
       "        vertical-align: middle;\n",
       "    }\n",
       "\n",
       "    .dataframe tbody tr th {\n",
       "        vertical-align: top;\n",
       "    }\n",
       "\n",
       "    .dataframe thead th {\n",
       "        text-align: right;\n",
       "    }\n",
       "</style>\n",
       "<table border=\"1\" class=\"dataframe\">\n",
       "  <thead>\n",
       "    <tr style=\"text-align: right;\">\n",
       "      <th></th>\n",
       "      <th>name</th>\n",
       "      <th>owner</th>\n",
       "      <th>breed</th>\n",
       "      <th>color</th>\n",
       "      <th>age</th>\n",
       "      <th>weight</th>\n",
       "      <th>gender</th>\n",
       "      <th>health issues</th>\n",
       "      <th>indoor/outdoor</th>\n",
       "      <th>vaccinated</th>\n",
       "    </tr>\n",
       "    <tr>\n",
       "      <th>type</th>\n",
       "      <th></th>\n",
       "      <th></th>\n",
       "      <th></th>\n",
       "      <th></th>\n",
       "      <th></th>\n",
       "      <th></th>\n",
       "      <th></th>\n",
       "      <th></th>\n",
       "      <th></th>\n",
       "      <th></th>\n",
       "    </tr>\n",
       "  </thead>\n",
       "  <tbody>\n",
       "    <tr>\n",
       "      <th>bird</th>\n",
       "      <td>1</td>\n",
       "      <td>1</td>\n",
       "      <td>1</td>\n",
       "      <td>1</td>\n",
       "      <td>1</td>\n",
       "      <td>1</td>\n",
       "      <td>1</td>\n",
       "      <td>1</td>\n",
       "      <td>1</td>\n",
       "      <td>0</td>\n",
       "    </tr>\n",
       "    <tr>\n",
       "      <th>cat</th>\n",
       "      <td>3</td>\n",
       "      <td>3</td>\n",
       "      <td>3</td>\n",
       "      <td>3</td>\n",
       "      <td>2</td>\n",
       "      <td>3</td>\n",
       "      <td>3</td>\n",
       "      <td>3</td>\n",
       "      <td>3</td>\n",
       "      <td>3</td>\n",
       "    </tr>\n",
       "    <tr>\n",
       "      <th>dog</th>\n",
       "      <td>2</td>\n",
       "      <td>2</td>\n",
       "      <td>2</td>\n",
       "      <td>2</td>\n",
       "      <td>2</td>\n",
       "      <td>2</td>\n",
       "      <td>2</td>\n",
       "      <td>2</td>\n",
       "      <td>2</td>\n",
       "      <td>2</td>\n",
       "    </tr>\n",
       "  </tbody>\n",
       "</table>\n",
       "</div>"
      ],
      "text/plain": [
       "      name  owner  breed  color  age  weight  gender  health issues  \\\n",
       "type                                                                  \n",
       "bird     1      1      1      1    1       1       1              1   \n",
       "cat      3      3      3      3    2       3       3              3   \n",
       "dog      2      2      2      2    2       2       2              2   \n",
       "\n",
       "      indoor/outdoor  vaccinated  \n",
       "type                              \n",
       "bird               1           0  \n",
       "cat                3           3  \n",
       "dog                2           2  "
      ]
     },
     "execution_count": 12,
     "metadata": {},
     "output_type": "execute_result"
    }
   ],
   "source": [
    "vet_records.groupby(\"type\").count()"
   ]
  },
  {
   "cell_type": "code",
   "execution_count": 13,
   "id": "996eb39e",
   "metadata": {},
   "outputs": [
    {
     "data": {
      "application/vnd.microsoft.datawrangler.viewer.v0+json": {
       "columns": [
        {
         "name": "type",
         "rawType": "object",
         "type": "string"
        },
        {
         "name": "count",
         "rawType": "int64",
         "type": "integer"
        }
       ],
       "ref": "fcaeabcd-f306-42cc-a00b-bf46a0773605",
       "rows": [
        [
         "cat",
         "3"
        ],
        [
         "dog",
         "2"
        ],
        [
         "bird",
         "1"
        ]
       ],
       "shape": {
        "columns": 1,
        "rows": 3
       }
      },
      "text/plain": [
       "type\n",
       "cat     3\n",
       "dog     2\n",
       "bird    1\n",
       "Name: count, dtype: int64"
      ]
     },
     "execution_count": 13,
     "metadata": {},
     "output_type": "execute_result"
    }
   ],
   "source": [
    "vet_records.type.value_counts()"
   ]
  }
 ],
 "metadata": {
  "kernelspec": {
   "display_name": ".venv",
   "language": "python",
   "name": "python3"
  },
  "language_info": {
   "codemirror_mode": {
    "name": "ipython",
    "version": 3
   },
   "file_extension": ".py",
   "mimetype": "text/x-python",
   "name": "python",
   "nbconvert_exporter": "python",
   "pygments_lexer": "ipython3",
   "version": "3.12.3"
  }
 },
 "nbformat": 4,
 "nbformat_minor": 5
}
